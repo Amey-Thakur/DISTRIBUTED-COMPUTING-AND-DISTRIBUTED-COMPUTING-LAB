{
  "metadata": {
    "kernelspec": {
      "language": "python",
      "display_name": "Python 3",
      "name": "python3"
    },
    "language_info": {
      "name": "python",
      "version": "3.7.12",
      "mimetype": "text/x-python",
      "codemirror_mode": {
        "name": "ipython",
        "version": 3
      },
      "pygments_lexer": "ipython3",
      "nbconvert_exporter": "python",
      "file_extension": ".py"
    },
    "colab": {
      "name": "Name_Resolution.ipynb",
      "provenance": [],
      "include_colab_link": true
    }
  },
  "nbformat_minor": 0,
  "nbformat": 4,
  "cells": [
    {
      "cell_type": "markdown",
      "metadata": {
        "id": "view-in-github",
        "colab_type": "text"
      },
      "source": [
        "<a href=\"https://colab.research.google.com/github/Amey-Thakur/DISTRIBUTED-COMPUTING-AND-DISTRIBUTED-COMPUTING-LAB/blob/main/Name_Resolution.ipynb\" target=\"_parent\"><img src=\"https://colab.research.google.com/assets/colab-badge.svg\" alt=\"Open In Colab\"/></a>"
      ]
    },
    {
      "cell_type": "markdown",
      "source": [
        "# RPCServer"
      ],
      "metadata": {
        "id": "OkrbO7xuXjKY"
      }
    },
    {
      "cell_type": "code",
      "source": [
        "import time, socket, sys\n",
        "import os.path\n",
        "import os\n",
        "\n",
        "print(\"\\nWelcome to Chat Room\\n\")\n",
        "print(\"Initialising....\\n\")\n",
        "time.sleep(1)\n",
        "\n",
        "s = socket.socket()\n",
        "host = socket.gethostname()\n",
        "ip = socket.gethostbyname(host)\n",
        "port = 1234\n",
        "s.bind((host, port))\n",
        "print(host, \"(\", ip, \")\\n\")\n",
        "name = input(str(\"Enter your name: \"))\n",
        "           \n",
        "s.listen(1)\n",
        "print(\"\\nWaiting for incoming connections...\\n\")\n",
        "conn, addr = s.accept()\n",
        "print(\"Received connection from \", addr[0], \"(\", addr[1], \")\\n\")\n",
        "\n",
        "s_name = conn.recv(1024)\n",
        "s_name = s_name.decode()\n",
        "print(s_name, \"has connected to the chat room\\nEnter [e] to exit chat room\\n\")\n",
        "conn.send(name.encode())\n",
        "\n",
        "# commands=[\"request-file-status\",\"request-file-dir\",\"request-file-data\"]\n",
        "\n",
        "comands = '''COMMANDS: \n",
        "                    request-file-status:\n",
        "                    request-file-dir:\n",
        "                    request-file-data:\n",
        "                '''\n",
        "conn.send(comands.encode())                \n",
        "while True:\n",
        "    message = conn.recv(1024)\n",
        "    message = message.decode()\n",
        "    if message == \"[e]\":\n",
        "        message = \"Left chat room!\"\n",
        "        conn.send(message.encode())\n",
        "        print(\"\\n\")\n",
        "        break\n",
        "    # conn.send(message.encode()) \n",
        "    \n",
        "\n",
        "    buffer = message.split(':')\n",
        "    cmnd = buffer[0]\n",
        "    filename = buffer[1]\n",
        "    # print(filename)\n",
        "\n",
        "    if cmnd == \"request-file-status\":\n",
        "        print(\"Command accepted\")\n",
        "        path=\"data/\"\n",
        "        filepath=path+filename\n",
        "        status = os.path.exists(filepath)\n",
        "        print(status)\n",
        "        if status:\n",
        "            response = filename + \"  exists\"\n",
        "        else:\n",
        "            response = filename + \"  does not exist\"\n",
        "\n",
        "        conn.send(response.encode())\n",
        "\n",
        "    elif cmnd == \"request-file-dir\":\n",
        "        print(\"Command accepted\")\n",
        "        cwd = os.getcwd()\n",
        "        path = \"/data/\"\n",
        "        filepath=cwd+path+filename\n",
        "        status = os.path.exists(filepath)\n",
        "        print(status)\n",
        "        if status:\n",
        "            response = filepath\n",
        "        else:\n",
        "            response = filename + \"  does not exist\"\n",
        "\n",
        "        conn.send(response.encode())\n",
        "\n",
        "    elif cmnd == \"request-file-data\":\n",
        "        print(\"Command accepted\")\n",
        "        path = \"data/\"\n",
        "        filepath=path+filename\n",
        "        status = os.path.exists(filepath)\n",
        "        print(status)\n",
        "        if status:\n",
        "            file = open(filepath, \"r\")\n",
        "            file_data = file.read()\n",
        "            response = \"sending-file:\"+filename\n",
        "            conn.send(response.encode())\n",
        "            message = conn.recv(1024)\n",
        "            message = message.decode()\n",
        "            if message == \"ready\":\n",
        "                response = file_data\n",
        "                conn.send(response.encode())\n",
        "            else:\n",
        "                pass\n",
        "        else:\n",
        "            response = filename + \"  does not exist\"\n",
        "            conn.send(response.encode())\n",
        "        \n",
        "\n",
        "\n",
        "    # print(s_name, \":\", message)\n",
        "    "
      ],
      "metadata": {
        "trusted": true,
        "id": "EbS8OJlRXjKi"
      },
      "execution_count": null,
      "outputs": []
    },
    {
      "cell_type": "markdown",
      "source": [
        "# RPCClient"
      ],
      "metadata": {
        "id": "iu6_SV4kXjKn"
      }
    },
    {
      "cell_type": "code",
      "source": [
        "import time, socket, sys\n",
        "import re\n",
        "\n",
        "print(\"\\nWelcome to Chat Room\\n\")\n",
        "print(\"Initialising....\\n\")\n",
        "time.sleep(1)\n",
        "\n",
        "s = socket.socket()\n",
        "shost = socket.gethostname()\n",
        "ip = socket.gethostbyname(shost)\n",
        "print(shost, \"(\", ip, \")\\n\")\n",
        "host = input(str(\"Enter server address: \"))\n",
        "name = input(str(\"\\nEnter your name: \"))\n",
        "port = 1234\n",
        "print(\"\\nTrying to connect to \", host, \"(\", port, \")\\n\")\n",
        "time.sleep(1)\n",
        "s.connect((host, port))\n",
        "print(\"Connected...\\n\")\n",
        "\n",
        "s.send(name.encode())\n",
        "s_name = s.recv(1024)\n",
        "s_name = s_name.decode()\n",
        "print(s_name, \"has joined the chat room\\nEnter [e] to exit chat room\\n\")\n",
        "\n",
        "while True:\n",
        "    message = s.recv(1024)\n",
        "    message = message.decode()\n",
        "    print(s_name, \":\", message)\n",
        "    message = input(str(\"Me : \"))\n",
        "    if message == \"[e]\":\n",
        "        message = \"Left chat room!\"\n",
        "        s.send(message.encode())\n",
        "        print(\"\\n\")\n",
        "        break\n",
        "    elif re.search(\"^sending-file\",message):\n",
        "        buffer = message.split(':')\n",
        "        filename = buffer[1]\n",
        "        print(filename)\n",
        "        rqst_data = \"ready\"\n",
        "        s.send(rqst_data.encode())\n",
        "        file_data = s.recv(1024)\n",
        "        file_data = file_data.decode()\n",
        "        file = open(filename, \"w\")\n",
        "        file.write(file_data)\n",
        "\n",
        "\n",
        "    s.send(message.encode())\n"
      ],
      "metadata": {
        "id": "aLMbV7uyXjKo"
      },
      "execution_count": null,
      "outputs": []
    },
    {
      "cell_type": "markdown",
      "source": [
        "# Data/test.txt"
      ],
      "metadata": {
        "id": "ZNbkMxxZXjKp"
      }
    },
    {
      "cell_type": "code",
      "source": [
        "This is test file."
      ],
      "metadata": {
        "id": "ZgHrUafRXjKq"
      },
      "execution_count": null,
      "outputs": []
    }
  ]
}